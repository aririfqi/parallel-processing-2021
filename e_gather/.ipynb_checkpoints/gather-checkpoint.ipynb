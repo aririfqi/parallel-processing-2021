{
 "cells": [
  {
   "cell_type": "code",
   "execution_count": 1,
   "metadata": {},
   "outputs": [
    {
     "name": "stdout",
     "output_type": "stream",
     "text": [
      "rank 3 mengirim [3 3 3 3 3 3 3 3 3 3]\n",
      "rank 3 menerima None\n",
      "rank 2 mengirim [2 2 2 2 2 2 2 2 2 2]\n",
      "rank 2 menerima None\n",
      "rank 1 mengirim [1 1 1 1 1 1 1 1 1 1]\n",
      "rank 1 menerima None\n",
      "rank 4 mengirim [4 4 4 4 4 4 4 4 4 4]\n",
      "rank 4 menerima None\n",
      "rank 0 mengirim [0 0 0 0 0 0 0 0 0 0]\n",
      "rank 0 menerima [[0 0 0 0 0 0 0 0 0 0]\n",
      " [1 1 1 1 1 1 1 1 1 1]\n",
      " [2 2 2 2 2 2 2 2 2 2]\n",
      " [3 3 3 3 3 3 3 3 3 3]\n",
      " [4 4 4 4 4 4 4 4 4 4]]\n"
     ]
    }
   ],
   "source": [
    "!mpiexec -n 5 python gather.py"
   ]
  },
  {
   "cell_type": "code",
   "execution_count": 2,
   "metadata": {},
   "outputs": [
    {
     "name": "stdout",
     "output_type": "stream",
     "text": [
      "<class 'list'>\n",
      "[[0, 0, 45], [1, 45, 45], [2, 90, 45], [3, 135, 45], [4, 180, 45]]\n"
     ]
    }
   ],
   "source": [
    "!mpiexec -n 5 python gather_simple.py"
   ]
  },
  {
   "cell_type": "code",
   "execution_count": 3,
   "metadata": {},
   "outputs": [
    {
     "name": "stdout",
     "output_type": "stream",
     "text": [
      "rank 1 data :  [0, 1, 2, 3, 4]\n",
      "rank 4 data :  [0, 1, 2, 3, 4]\n",
      "rank 2 data :  [0, 1, 2, 3, 4]\n",
      "rank 0 data :  [0, 1, 2, 3, 4]\n",
      "rank 3 data :  [0, 1, 2, 3, 4]\n"
     ]
    }
   ],
   "source": [
    "!mpiexec -n 5 python allgather.py"
   ]
  },
  {
   "cell_type": "code",
   "execution_count": 1,
   "metadata": {},
   "outputs": [
    {
     "name": "stdout",
     "output_type": "stream",
     "text": [
      "rank 4 menerima None\n",
      "rank 1 menerima None\n",
      "rank 3 menerima None\n",
      "rank 2 menerima None\n",
      "rank 0 menerima [1, 2, 3, 4, 5]\n"
     ]
    }
   ],
   "source": [
    "!mpiexec -n 5 python gatheralt.py"
   ]
  },
  {
   "cell_type": "code",
   "execution_count": null,
   "metadata": {},
   "outputs": [],
   "source": []
  }
 ],
 "metadata": {
  "kernelspec": {
   "display_name": "Python 3",
   "language": "python",
   "name": "python3"
  },
  "language_info": {
   "codemirror_mode": {
    "name": "ipython",
    "version": 3
   },
   "file_extension": ".py",
   "mimetype": "text/x-python",
   "name": "python",
   "nbconvert_exporter": "python",
   "pygments_lexer": "ipython3",
   "version": "3.7.4"
  }
 },
 "nbformat": 4,
 "nbformat_minor": 2
}
