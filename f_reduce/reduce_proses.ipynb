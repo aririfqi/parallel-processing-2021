{
 "cells": [
  {
   "cell_type": "code",
   "execution_count": 1,
   "metadata": {},
   "outputs": [
    {
     "name": "stdout",
     "output_type": "stream",
     "text": [
      "rank 0 SUM :  10\n",
      "rank 0 MEAN :  2.5\n",
      "rank 0 MIN :  1\n",
      "rank 0 MAX :  4\n",
      "rank 0 PROD :  24\n",
      "rank 0 MAXLOC :  (3, 12)\n",
      "rank 0 MINLOC :  (0, 0)\n"
     ]
    }
   ],
   "source": [
    "!mpiexec -n 4 python reduce.py"
   ]
  },
  {
   "cell_type": "code",
   "execution_count": 2,
   "metadata": {},
   "outputs": [
    {
     "name": "stdout",
     "output_type": "stream",
     "text": [
      "rank 0 SUM :  [0, 0, 0, 0, 1, 1, 1, 1, 2, 2, 2, 2, 3, 3, 3, 3]\n",
      "rank 0 MIN :  [0, 0, 0, 0]\n",
      "rank 0 MAX :  [3, 3, 3, 3]\n"
     ]
    }
   ],
   "source": [
    "!mpiexec -n 4 python reducearray.py"
   ]
  },
  {
   "cell_type": "code",
   "execution_count": 3,
   "metadata": {},
   "outputs": [
    {
     "name": "stdout",
     "output_type": "stream",
     "text": [
      "rank 3 data :  True\n",
      "rank 2 data :  False\n",
      "rank 1 data :  False\n",
      "rank 0 data :  False\n",
      "rank 0 LAND :  False\n",
      "rank 0 LOR :  True\n",
      "rank 0 BAND :  False\n",
      "rank 0 BOR :  True\n"
     ]
    }
   ],
   "source": [
    "!mpiexec -n 4 python reduce_logic.py"
   ]
  },
  {
   "cell_type": "code",
   "execution_count": 4,
   "metadata": {},
   "outputs": [
    {
     "name": "stdout",
     "output_type": "stream",
     "text": [
      "rank 2 data :  6\n",
      "rank 0 data :  6\n",
      "rank 1 data :  6\n",
      "rank 3 data :  6\n"
     ]
    }
   ],
   "source": [
    "!mpiexec -n 4 python allreduce.py"
   ]
  },
  {
   "cell_type": "code",
   "execution_count": 5,
   "metadata": {},
   "outputs": [
    {
     "name": "stdout",
     "output_type": "stream",
     "text": [
      "rank 2 senddata :  [ 0  3  6  9 12 15 18 21 24 27 30 33]\n",
      "rank 2 recvdata :  [60 70 80]\n",
      "rank 0 senddata :  [ 0  1  2  3  4  5  6  7  8  9 10 11]\n",
      "rank 0 recvdata :  [ 0 10 20]\n",
      "rank 3 senddata :  [ 0  4  8 12 16 20 24 28 32 36 40 44]\n",
      "rank 3 recvdata :  [ 90 100 110]\n",
      "rank 1 senddata :  [ 0  2  4  6  8 10 12 14 16 18 20 22]\n",
      "rank 1 recvdata :  [30 40 50]\n"
     ]
    }
   ],
   "source": [
    "!mpiexec -n 4 python reducescatter.py"
   ]
  },
  {
   "cell_type": "code",
   "execution_count": null,
   "metadata": {},
   "outputs": [],
   "source": []
  }
 ],
 "metadata": {
  "kernelspec": {
   "display_name": "Python 3",
   "language": "python",
   "name": "python3"
  },
  "language_info": {
   "codemirror_mode": {
    "name": "ipython",
    "version": 3
   },
   "file_extension": ".py",
   "mimetype": "text/x-python",
   "name": "python",
   "nbconvert_exporter": "python",
   "pygments_lexer": "ipython3",
   "version": "3.7.4"
  }
 },
 "nbformat": 4,
 "nbformat_minor": 2
}
