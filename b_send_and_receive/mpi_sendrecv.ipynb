{
 "cells": [
  {
   "cell_type": "code",
   "execution_count": null,
   "metadata": {},
   "outputs": [],
   "source": [
    "from mpi4py import MPI\n",
    "\n",
    "comm = MPI.COMM_WORLD\n",
    "rank = comm.rank\n",
    "\n",
    "print(\"rank %d \" % rank,end = \" \")\n",
    "if rank == 0:\n",
    "    comm.send(45, dest=1, tag = 100)\n",
    "    comm.send(\"barang mahal\", dest=2,tag=101)\n",
    "    print(\"mengirim barang\")\n",
    "elif rank == 1:\n",
    "    d = comm.recv(source=0, tag=100)\n",
    "    print(\"menerima : %d \" % (d))\n",
    "elif rank == 2:\n",
    "    d = comm.recv(source=0,tag=101)\n",
    "    print(\"menerima : %s \" % (d))\n",
    "else:\n",
    "    print(\"Tidak bekerja\")"
   ]
  },
  {
   "cell_type": "code",
   "execution_count": 1,
   "metadata": {},
   "outputs": [
    {
     "name": "stdout",
     "output_type": "stream",
     "text": [
      "rank 3  Tidak bekerja\n",
      "rank 0  mengirim barang\n",
      "rank 2  menerima : barang mahal \n",
      "rank 1  menerima : 45 \n",
      "rank 4  Tidak bekerja\n"
     ]
    }
   ],
   "source": [
    "!mpiexec -n 5 python sendrecv_simple.py"
   ]
  },
  {
   "cell_type": "code",
   "execution_count": null,
   "metadata": {},
   "outputs": [],
   "source": [
    "from mpi4py import MPI\n",
    "\n",
    "comm = MPI.COMM_WORLD\n",
    "rank = comm.rank\n",
    "\n",
    "print(\"rank %d \" % rank,end=\" \")\n",
    "if rank == 0:\n",
    "    c = 45\n",
    "    comm.send(c, dest=1, tag = 100)\n",
    "    comm.send([2,3,4], dest=1,tag=101)\n",
    "    comm.send(c,dest=2, tag=103)\n",
    "    print(\"mengirim barang\")\n",
    "elif rank == 1:\n",
    "    d = comm.recv(source=0,tag=101)\n",
    "    c = comm.recv(source=0,tag=100)\n",
    "    print(\"menerima c: %d d: %s\" % (c,d))\n",
    "elif rank == 2:\n",
    "    c = comm.recv(source=0,tag=103)\n",
    "    print(\"menerima c: %d \" % (c))\n",
    "else:\n",
    "    print(\"Tidak bekerja\")"
   ]
  },
  {
   "cell_type": "code",
   "execution_count": 2,
   "metadata": {},
   "outputs": [
    {
     "name": "stdout",
     "output_type": "stream",
     "text": [
      "rank 4  Tidak bekerja\n",
      "rank 3  Tidak bekerja\n",
      "rank 6  Tidak bekerja\n",
      "rank 7  Tidak bekerja\n",
      "rank 0  mengirim barang\n",
      "rank 1  menerima c: 45 d: [2, 3, 4]\n",
      "rank 5  Tidak bekerja\n",
      "rank 2  menerima c: 45 \n"
     ]
    }
   ],
   "source": [
    "!mpiexec -n 8 python sendrecv_next.py"
   ]
  },
  {
   "cell_type": "code",
   "execution_count": null,
   "metadata": {},
   "outputs": [],
   "source": [
    "from mpi4py import MPI\n",
    "\n",
    "comm = MPI.COMM_WORLD\n",
    "rank = comm.rank\n",
    "\n",
    "print(\"rank %d \" % rank,end=\" \")\n",
    "if rank == 0:\n",
    "    data1 = 10\n",
    "    data2 = 200\n",
    "    comm.send(data1, dest=1, tag=100)\n",
    "    comm.send(data2, dest=2,tag=100)\n",
    "    print(\"mengirim\")\n",
    "    data3 =comm.recv(source=3, tag=102)\n",
    "    data4 = comm.recv(source=4, tag=103)*5\n",
    "    dataHasil = data3+data4\n",
    "    print(dataHasil)\n",
    "elif rank == 1:\n",
    "    data5 = comm.recv(source=0,tag=100)\n",
    "    data5 += 10\n",
    "    print(\"Hasil Sementara : %d \" % (data5))\n",
    "    comm.send(data5,dest=3,tag=100)\n",
    "elif rank == 2:\n",
    "    data6 = comm.recv(source=0,tag=100)\n",
    "    data6 -= 10\n",
    "    comm.send(data6,dest=4,tag=100)\n",
    "    print(\"Hasil Sementara : %d \" % (data6))\n",
    "elif rank == 3:\n",
    "    data7 = comm.recv(source=1,tag=100)\n",
    "    data7 **= 2\n",
    "    print(\"Hasil Akhir : %d \" % (data7))\n",
    "    comm.send(data7,dest=0,tag=102)\n",
    "elif rank == 4:\n",
    "    data8 = comm.recv(source=2,tag=100)\n",
    "    data8 **= 2\n",
    "    print(\"Hasil Akhir : %d \" % (data8))\n",
    "    comm.send(data8,dest=0,tag=103)\n",
    "else:\n",
    "    print(\"Tidak Bekerja\")"
   ]
  },
  {
   "cell_type": "code",
   "execution_count": 3,
   "metadata": {},
   "outputs": [
    {
     "name": "stdout",
     "output_type": "stream",
     "text": [
      "rank 5  Tidak Bekerja\n",
      "rank 6  Tidak Bekerja\n",
      "rank 1  Hasil Sementara : 20 \n",
      "rank 2  Hasil Sementara : 190 \n",
      "rank 7  Tidak Bekerja\n",
      "rank 3  Hasil Akhir : 400 \n",
      "rank 4  Hasil Akhir : 36100 \n",
      "rank 0  mengirim\n",
      "180900\n"
     ]
    }
   ],
   "source": [
    "!mpiexec -n 8 python sendrecv_adv1.py"
   ]
  },
  {
   "cell_type": "code",
   "execution_count": null,
   "metadata": {},
   "outputs": [],
   "source": [
    "from mpi4py import MPI\n",
    "\n",
    "comm = MPI.COMM_WORLD\n",
    "rank = comm.rank\n",
    "size = comm.size\n",
    "\n",
    "print(\"rank %d \" % rank,end=\" \")\n",
    "if rank == 0:\n",
    "    data1 = 2\n",
    "    data2 = 3\n",
    "    print(\"mengirim ke \", end=\" \")\n",
    "    for a in range(1,size):\n",
    "        if a%2==0:\n",
    "            comm.send(data1,dest=a,tag=100)\n",
    "            print(a,end=\" \")\n",
    "        else:\n",
    "            comm.send(data2,dest=a,tag=100)\n",
    "            print(a,end=\" \")\n",
    "    print()\n",
    "elif (rank%2)==0:\n",
    "    data3 = comm.recv(source=0,tag=100)\n",
    "    print(\" : \", end=\" \")\n",
    "    for a in range(1,size):\n",
    "        if a%2 !=0:\n",
    "            comm.send(data3*rank,dest=a,tag=100)\n",
    "            print(\"send \", a,data3*rank,end=\" \")\n",
    "            data5 = comm.recv(source=a,tag=100)\n",
    "            print(\"recv \", a,data5*rank,end=\" \")\n",
    "    print()\n",
    "else:\n",
    "    data4 = comm.recv(source=0,tag=100)\n",
    "    print(\" : \",end=\" \")\n",
    "    for a in range(1,size):\n",
    "        if a%2==0:\n",
    "            comm.send(data4*rank,dest=a,tag=100)\n",
    "            print(\"send \",a,data4*rank,end=\" \")\n",
    "            data6 = comm.recv(source=a,tag=100)\n",
    "            print(\"recv \",a,data6*rank,end=\" \")\n",
    "    print()"
   ]
  },
  {
   "cell_type": "code",
   "execution_count": 5,
   "metadata": {},
   "outputs": [
    {
     "name": "stdout",
     "output_type": "stream",
     "text": [
      "rank 0  mengirim ke  1 2 3 4 5 6 7 8 \n",
      "rank 2   :  send  1 4 recv  1 6 send  3 4 recv  3 18 send  5 4 recv  5 30 send  7 4 recv  7 42 \n",
      "rank 4   :  send  1 8 recv  1 12 send  3 8 recv  3 36 send  5 8 recv  5 60 send  7 8 recv  7 84 \n",
      "rank 1   :  send  2 3 recv  2 4 send  4 3 recv  4 8 send  6 3 recv  6 12 send  8 3 recv  8 16 \n",
      "rank 6   :  send  1 12 recv  1 18 send  3 12 recv  3 54 send  5 12 recv  5 90 send  7 12 recv  7 126 \n",
      "rank 3   :  send  2 9 recv  2 12 send  4 9 recv  4 24 send  6 9 recv  6 36 send  8 9 recv  8 48 \n",
      "rank 5   :  send  2 15 recv  2 20 send  4 15 recv  4 40 send  6 15 recv  6 60 send  8 15 recv  8 80 \n",
      "rank 8   :  send  1 16 recv  1 24 send  3 16 recv  3 72 send  5 16 recv  5 120 send  7 16 recv  7 168 \n",
      "rank 7   :  send  2 21 recv  2 28 send  4 21 recv  4 56 send  6 21 recv  6 84 send  8 21 recv  8 112 \n"
     ]
    }
   ],
   "source": [
    "!mpiexec -n 9 python sendrecv_adv2.py"
   ]
  },
  {
   "cell_type": "code",
   "execution_count": null,
   "metadata": {},
   "outputs": [],
   "source": []
  }
 ],
 "metadata": {
  "kernelspec": {
   "display_name": "Python 3",
   "language": "python",
   "name": "python3"
  },
  "language_info": {
   "codemirror_mode": {
    "name": "ipython",
    "version": 3
   },
   "file_extension": ".py",
   "mimetype": "text/x-python",
   "name": "python",
   "nbconvert_exporter": "python",
   "pygments_lexer": "ipython3",
   "version": "3.7.4"
  }
 },
 "nbformat": 4,
 "nbformat_minor": 2
}
