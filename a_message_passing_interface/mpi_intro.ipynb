{
 "cells": [
  {
   "cell_type": "code",
   "execution_count": 6,
   "metadata": {},
   "outputs": [
    {
     "name": "stdout",
     "output_type": "stream",
     "text": [
      "Barang Exclusive\n"
     ]
    }
   ],
   "source": [
    "from mpi4py import MPI\n",
    "\n",
    "comm = MPI.COMM_WORLD\n",
    "if comm.rank == 0:\n",
    "    print(\"Barang Exclusive\")\n",
    "elif comm.rank == 4:\n",
    "    print(\"Barang Pecah Belah\")\n",
    "else:\n",
    "    print(\"Barang reguler no \", comm.rank, \" dari total keseluruhan barang : \", comm.size)"
   ]
  },
  {
   "cell_type": "code",
   "execution_count": 8,
   "metadata": {},
   "outputs": [
    {
     "name": "stdout",
     "output_type": "stream",
     "text": [
      "Barang reguler no  2  dari total keseluruhan barang :  4\n",
      "Barang reguler no  1  dari total keseluruhan barang :  4\n",
      "Barang Exclusive\n",
      "Barang reguler no  3  dari total keseluruhan barang :  4\n"
     ]
    }
   ],
   "source": [
    "!mpiexec -n 4 python mpihello.py"
   ]
  },
  {
   "cell_type": "code",
   "execution_count": 20,
   "metadata": {},
   "outputs": [
    {
     "name": "stdout",
     "output_type": "stream",
     "text": [
      "0 mengerjakan 0 200 [0, 1, 2, 3, 4, 5, 6, 7, 8, 9, 10, 11, 12, 13, 14, 15, 16, 17, 18, 19, 20, 21, 22, 23, 24, 25, 26, 27, 28, 29, 30, 31, 32, 33, 34, 35, 36, 37, 38, 39, 40, 41, 42, 43, 44, 45, 46, 47, 48, 49, 50, 51, 52, 53, 54, 55, 56, 57, 58, 59, 60, 61, 62, 63, 64, 65, 66, 67, 68, 69, 70, 71, 72, 73, 74, 75, 76, 77, 78, 79, 80, 81, 82, 83, 84, 85, 86, 87, 88, 89, 90, 91, 92, 93, 94, 95, 96, 97, 98, 99, 100, 101, 102, 103, 104, 105, 106, 107, 108, 109, 110, 111, 112, 113, 114, 115, 116, 117, 118, 119, 120, 121, 122, 123, 124, 125, 126, 127, 128, 129, 130, 131, 132, 133, 134, 135, 136, 137, 138, 139, 140, 141, 142, 143, 144, 145, 146, 147, 148, 149, 150, 151, 152, 153, 154, 155, 156, 157, 158, 159, 160, 161, 162, 163, 164, 165, 166, 167, 168, 169, 170, 171, 172, 173, 174, 175, 176, 177, 178, 179, 180, 181, 182, 183, 184, 185, 186, 187, 188, 189, 190, 191, 192, 193, 194, 195, 196, 197, 198, 199] 200 dari 200\n",
      "\n",
      "\n"
     ]
    }
   ],
   "source": [
    "from mpi4py import MPI\n",
    "from math import ceil\n",
    "\n",
    "comm = MPI.COMM_WORLD\n",
    "data4 = [i for i in range(200)]\n",
    "i = ceil(len(data4)/comm.size)\n",
    "j = comm.rank*i\n",
    "if(j+i)>=len(data4):\n",
    "    k = len(data4)\n",
    "else:\n",
    "    k = j+i\n",
    "print(comm.rank,\"mengerjakan %d %d\" % (j,k),\n",
    "     data4[j:k],len(data4[j:k]), \"dari\",len(data4))\n",
    "print(\"\\n\")"
   ]
  },
  {
   "cell_type": "code",
   "execution_count": 21,
   "metadata": {},
   "outputs": [
    {
     "name": "stdout",
     "output_type": "stream",
     "text": [
      "5 mengerjakan 100 120 [100, 101, 102, 103, 104, 105, 106, 107, 108, 109, 110, 111, 112, 113, 114, 115, 116, 117, 118, 119] 20 dari 200\n",
      "\n",
      "\n",
      "7 mengerjakan 140 160 [140, 141, 142, 143, 144, 145, 146, 147, 148, 149, 150, 151, 152, 153, 154, 155, 156, 157, 158, 159] 20 dari 200\n",
      "\n",
      "\n",
      "6 mengerjakan 120 140 [120, 121, 122, 123, 124, 125, 126, 127, 128, 129, 130, 131, 132, 133, 134, 135, 136, 137, 138, 139] 20 dari 200\n",
      "\n",
      "\n",
      "9 mengerjakan 180 200 [180, 181, 182, 183, 184, 185, 186, 187, 188, 189, 190, 191, 192, 193, 194, 195, 196, 197, 198, 199] 20 dari 200\n",
      "\n",
      "\n",
      "3 mengerjakan 60 80 [60, 61, 62, 63, 64, 65, 66, 67, 68, 69, 70, 71, 72, 73, 74, 75, 76, 77, 78, 79] 20 dari 200\n",
      "\n",
      "\n",
      "4 mengerjakan 80 100 [80, 81, 82, 83, 84, 85, 86, 87, 88, 89, 90, 91, 92, 93, 94, 95, 96, 97, 98, 99] 20 dari 200\n",
      "\n",
      "\n",
      "8 mengerjakan 160 180 [160, 161, 162, 163, 164, 165, 166, 167, 168, 169, 170, 171, 172, 173, 174, 175, 176, 177, 178, 179] 20 dari 200\n",
      "\n",
      "\n",
      "1 mengerjakan 20 40 [20, 21, 22, 23, 24, 25, 26, 27, 28, 29, 30, 31, 32, 33, 34, 35, 36, 37, 38, 39] 20 dari 200\n",
      "\n",
      "\n",
      "0 mengerjakan 0 20 [0, 1, 2, 3, 4, 5, 6, 7, 8, 9, 10, 11, 12, 13, 14, 15, 16, 17, 18, 19] 20 dari 200\n",
      "\n",
      "\n",
      "2 mengerjakan 40 60 [40, 41, 42, 43, 44, 45, 46, 47, 48, 49, 50, 51, 52, 53, 54, 55, 56, 57, 58, 59] 20 dari 200\n",
      "\n",
      "\n"
     ]
    }
   ],
   "source": [
    "!mpiexec -n 10 python mpibagikerja.py"
   ]
  },
  {
   "cell_type": "code",
   "execution_count": null,
   "metadata": {},
   "outputs": [],
   "source": []
  }
 ],
 "metadata": {
  "kernelspec": {
   "display_name": "Python 3",
   "language": "python",
   "name": "python3"
  },
  "language_info": {
   "codemirror_mode": {
    "name": "ipython",
    "version": 3
   },
   "file_extension": ".py",
   "mimetype": "text/x-python",
   "name": "python",
   "nbconvert_exporter": "python",
   "pygments_lexer": "ipython3",
   "version": "3.7.4"
  }
 },
 "nbformat": 4,
 "nbformat_minor": 2
}
