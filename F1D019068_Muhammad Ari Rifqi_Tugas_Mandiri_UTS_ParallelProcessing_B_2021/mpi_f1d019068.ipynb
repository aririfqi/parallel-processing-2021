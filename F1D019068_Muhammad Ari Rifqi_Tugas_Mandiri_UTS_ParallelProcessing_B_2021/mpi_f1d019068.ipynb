{
 "cells": [
  {
   "cell_type": "markdown",
   "metadata": {},
   "source": [
    "Program message passing\n",
    "interface (MPI) menggunakan python sesuai rancangan bagan pipeline yang telah dibuat.\n",
    "Studi kasus MPI pada perekapan pengiriman dan penerimaan barang dan infrastruktur sekolah (sekolah dasar)"
   ]
  },
  {
   "cell_type": "code",
   "execution_count": 1,
   "metadata": {},
   "outputs": [
    {
     "name": "stdout",
     "output_type": "stream",
     "text": [
      "Pengiriman data barang dari rank 0 ke rank 2 dengan data :  [0, 1, 2, 3, 4, 5, 6, 7, 8, 9, 10, 11, 12, 13, 14, 15, 16, 17, 18, 19, 20]\n",
      "Pengiriman data barang dari rank 0 ke rank 3 dengan data :  [0, 1, 2, 3, 4, 5, 6, 7, 8, 9]\n",
      "Rank 2 menerima data barang dari rank 0 dengan data :  [0, 1, 2, 3, 4, 5, 6, 7, 8, 9, 10, 11, 12, 13, 14, 15, 16, 17, 18, 19, 20]\n",
      "Rank 3 menerima data barang dari rank 0 dengan data :  [0, 1, 2, 3, 4, 5, 6, 7, 8, 9, 10, 11, 12, 13, 14, 15, 16, 17, 18, 19, 20]\n",
      "Rank 2 melakukan broadcast\n",
      "Rank 3 melakukan broadcast\n",
      "(bcast from root 2)-> Rank 3 data :  [0, 1, 2, 3, 4, 5, 6, 7, 8, 9, 10, 11, 12, 13, 14, 15, 16, 17, 18, 19, 20]\n",
      "(bcast from root 2)-> Rank 4 data :  [0, 1, 2, 3, 4, 5, 6, 7, 8, 9, 10, 11, 12, 13, 14, 15, 16, 17, 18, 19, 20]\n",
      "Hasil Scatter 01\n",
      "Rank 5 dengan data :  5\n",
      "Hasil Scatter 01\n",
      "Rank 6 dengan data :  6\n",
      "Hasil Scatter 01\n",
      "Rank 7 dengan data :  7\n",
      "Hasil Scatter 01\n",
      "Rank 8 dengan data :  8\n",
      "Hasil Gather 01\n",
      "Rank 9 dengan data :  [0, 1, 2, 3, 4, 5, 6, 7, 8, 9, 10, 11, 12, 13, 14, 15, 16, 17, 18, 19, 20]\n",
      "Hasil Gather 01\n",
      "Rank 10 dengan data :  [0, 1, 2, 3, 4, 5, 6, 7, 8, 9, 10, 11, 12, 13, 14, 15, 16, 17, 18, 19, 20]\n",
      "Hasil Scatter 02\n",
      "Rank 11 dengan data :  11\n",
      "Hasil Scatter 02\n",
      "Rank 13 dengan data :  13\n",
      "Hasil Scatter 02\n",
      "Rank 12 dengan data :  12\n",
      "Hasil Scatter 02\n",
      "Rank 14 dengan data :  14\n",
      "Hasil Scatter 02\n",
      "Rank 15 dengan data :  15\n",
      "Hasil Scatter 02\n",
      "Rank 16 dengan data :  16\n",
      "Hasil Scatter 02\n",
      "Rank 18 dengan data :  18\n",
      "Hasil Scatter 02\n",
      "Rank 17 dengan data :  17\n",
      "Hasil Gather 02\n",
      "Rank 0 dengan data :  [0, 1, 2, 3, 4, 5, 6, 7, 8, 9, 10, 11, 12, 13, 14, 15, 16, 17, 18, 19, 20]\n",
      "Hasil Gather 02\n",
      "Rank 0 dengan data :  [0, 1, 2, 3, 4, 5, 6, 7, 8, 9, 10, 11, 12, 13, 14, 15, 16, 17, 18, 19, 20]\n",
      "(bcast from root 3)-> Rank 1 data :  [0, 1, 2, 3, 4, 5, 6, 7, 8, 9, 10, 11, 12, 13, 14, 15, 16, 17, 18, 19, 20]\n",
      "Hasil Scatter Cabang kanan\n",
      "Rank 9 dengan data :  9\n",
      "Hasil Scatter Cabang kanan\n",
      "Rank 10 dengan data :  10\n",
      "Hasil Cabang kanan\n",
      "Rank 0 dengan data :  [0, 1, 2, 3, 4, 5, 6, 7, 8, 9, 10, 11, 12, 13, 14, 15, 16, 17, 18, 19, 20]\n",
      "file (rank 0) SUM :  [0, 1, 2, 3, 4, 5, 6, 7, 8, 9, 10, 11, 12, 13, 14, 15, 16, 17, 18, 19, 20, 0, 1, 2, 3, 4, 5, 6, 7, 8, 9, 10, 11, 12, 13, 14, 15, 16, 17, 18, 19, 20, 0, 1, 2, 3, 4, 5, 6, 7, 8, 9, 10, 11, 12, 13, 14, 15, 16, 17, 18, 19, 20, 0, 1, 2, 3, 4, 5, 6, 7, 8, 9, 10, 11, 12, 13, 14, 15, 16, 17, 18, 19, 20, 0, 1, 2, 3, 4, 5, 6, 7, 8, 9, 10, 11, 12, 13, 14, 15, 16, 17, 18, 19, 20, 0, 1, 2, 3, 4, 5, 6, 7, 8, 9, 10, 11, 12, 13, 14, 15, 16, 17, 18, 19, 20, 0, 1, 2, 3, 4, 5, 6, 7, 8, 9, 10, 11, 12, 13, 14, 15, 16, 17, 18, 19, 20, 0, 1, 2, 3, 4, 5, 6, 7, 8, 9, 10, 11, 12, 13, 14, 15, 16, 17, 18, 19, 20, 0, 1, 2, 3, 4, 5, 6, 7, 8, 9, 10, 11, 12, 13, 14, 15, 16, 17, 18, 19, 20, 0, 1, 2, 3, 4, 5, 6, 7, 8, 9, 10, 11, 12, 13, 14, 15, 16, 17, 18, 19, 20, 0, 1, 2, 3, 4, 5, 6, 7, 8, 9, 10, 11, 12, 13, 14, 15, 16, 17, 18, 19, 20, 0, 1, 2, 3, 4, 5, 6, 7, 8, 9, 10, 11, 12, 13, 14, 15, 16, 17, 18, 19, 20, 0, 1, 2, 3, 4, 5, 6, 7, 8, 9, 10, 11, 12, 13, 14, 15, 16, 17, 18, 19, 20, 0, 1, 2, 3, 4, 5, 6, 7, 8, 9, 10, 11, 12, 13, 14, 15, 16, 17, 18, 19, 20, 0, 1, 2, 3, 4, 5, 6, 7, 8, 9, 10, 11, 12, 13, 14, 15, 16, 17, 18, 19, 20, 0, 1, 2, 3, 4, 5, 6, 7, 8, 9, 10, 11, 12, 13, 14, 15, 16, 17, 18, 19, 20, 0, 1, 2, 3, 4, 5, 6, 7, 8, 9, 10, 11, 12, 13, 14, 15, 16, 17, 18, 19, 20, 0, 1, 2, 3, 4, 5, 6, 7, 8, 9, 10, 11, 12, 13, 14, 15, 16, 17, 18, 19, 20, 0, 1, 2, 3, 4, 5, 6, 7, 8, 9, 10, 11, 12, 13, 14, 15, 16, 17, 18, 19, 20, 0, 1, 2, 3, 4, 5, 6, 7, 8, 9, 10, 11, 12, 13, 14, 15, 16, 17, 18, 19, 20, 0, 1, 2, 3, 4, 5, 6, 7, 8, 9, 10, 11, 12, 13, 14, 15, 16, 17, 18, 19, 20]\n",
      "file (rank 0) MIN :  [0, 1, 2, 3, 4, 5, 6, 7, 8, 9, 10, 11, 12, 13, 14, 15, 16, 17, 18, 19, 20]\n",
      "file (rank 0) MAX :  [0, 1, 2, 3, 4, 5, 6, 7, 8, 9, 10, 11, 12, 13, 14, 15, 16, 17, 18, 19, 20]\n",
      "(allreduce cabang kanan)-> rank 0 menerima data :  [0, 1, 2, 3, 4, 5, 6, 7, 8, 9, 0, 1, 2, 3, 4, 5, 6, 7, 8, 9, 0, 1, 2, 3, 4, 5, 6, 7, 8, 9, 0, 1, 2, 3, 4, 5, 6, 7, 8, 9, 0, 1, 2, 3, 4, 5, 6, 7, 8, 9, 0, 1, 2, 3, 4, 5, 6, 7, 8, 9, 0, 1, 2, 3, 4, 5, 6, 7, 8, 9, 0, 1, 2, 3, 4, 5, 6, 7, 8, 9, 0, 1, 2, 3, 4, 5, 6, 7, 8, 9, 0, 1, 2, 3, 4, 5, 6, 7, 8, 9, 0, 1, 2, 3, 4, 5, 6, 7, 8, 9, 0, 1, 2, 3, 4, 5, 6, 7, 8, 9, 0, 1, 2, 3, 4, 5, 6, 7, 8, 9, 0, 1, 2, 3, 4, 5, 6, 7, 8, 9, 0, 1, 2, 3, 4, 5, 6, 7, 8, 9, 0, 1, 2, 3, 4, 5, 6, 7, 8, 9, 0, 1, 2, 3, 4, 5, 6, 7, 8, 9, 0, 1, 2, 3, 4, 5, 6, 7, 8, 9, 0, 1, 2, 3, 4, 5, 6, 7, 8, 9, 0, 1, 2, 3, 4, 5, 6, 7, 8, 9, 0, 1, 2, 3, 4, 5, 6, 7, 8, 9] data\n"
     ]
    }
   ],
   "source": [
    "!mpiexec -n 21 python bcast_scatter_gather_reducearray.py"
   ]
  },
  {
   "cell_type": "code",
   "execution_count": 2,
   "metadata": {},
   "outputs": [
    {
     "name": "stdout",
     "output_type": "stream",
     "text": [
      "Barang reguler no  13  dari total keseluruhan barang :  20\n",
      "Barang reguler no  18  dari total keseluruhan barang :  20\n",
      "Barang reguler no  7  dari total keseluruhan barang :  20\n",
      "Barang reguler no  16  dari total keseluruhan barang :  20\n",
      "Barang reguler no  6  dari total keseluruhan barang :  20\n",
      "Barang reguler no  9  dari total keseluruhan barang :  20\n",
      "Barang reguler no  15  dari total keseluruhan barang :  20\n",
      "Barang Penunjang Sekolah\n",
      "Barang Pokok Sekolah\n",
      "Barang reguler no  17  dari total keseluruhan barang :  20\n",
      "Barang reguler no  8  dari total keseluruhan barang :  20\n",
      "Barang reguler no  3  dari total keseluruhan barang :  20\n",
      "Barang reguler no  19  dari total keseluruhan barang :  20\n",
      "Barang reguler no  1  dari total keseluruhan barang :  20\n",
      "Barang reguler no  10  dari total keseluruhan barang :  20\n",
      "Barang reguler no  5  dari total keseluruhan barang :  20\n",
      "Barang reguler no  11  dari total keseluruhan barang :  20\n",
      "Barang reguler no  14  dari total keseluruhan barang :  20\n",
      "Barang reguler no  2  dari total keseluruhan barang :  20\n",
      "Barang reguler no  12  dari total keseluruhan barang :  20\n"
     ]
    }
   ],
   "source": [
    "!mpiexec -n 20 python mpihello.py"
   ]
  },
  {
   "cell_type": "code",
   "execution_count": 3,
   "metadata": {},
   "outputs": [
    {
     "name": "stdout",
     "output_type": "stream",
     "text": [
      "File (rank) 2 merekap barang nomor 40 60 [40, 41, 42, 43, 44, 45, 46, 47, 48, 49, 50, 51, 52, 53, 54, 55, 56, 57, 58, 59] 20 dari 200\n",
      "\n",
      "\n",
      "File (rank) 3 merekap barang nomor 60 80 [60, 61, 62, 63, 64, 65, 66, 67, 68, 69, 70, 71, 72, 73, 74, 75, 76, 77, 78, 79] 20 dari 200\n",
      "\n",
      "\n",
      "File (rank) 7 merekap barang nomor 140 160 [140, 141, 142, 143, 144, 145, 146, 147, 148, 149, 150, 151, 152, 153, 154, 155, 156, 157, 158, 159] 20 dari 200\n",
      "\n",
      "\n",
      "File (rank) 1 merekap barang nomor 20 40 [20, 21, 22, 23, 24, 25, 26, 27, 28, 29, 30, 31, 32, 33, 34, 35, 36, 37, 38, 39] 20 dari 200\n",
      "\n",
      "\n",
      "File (rank) 5 merekap barang nomor 100 120 [100, 101, 102, 103, 104, 105, 106, 107, 108, 109, 110, 111, 112, 113, 114, 115, 116, 117, 118, 119] 20 dari 200\n",
      "\n",
      "\n",
      "File (rank) 8 merekap barang nomor 160 180 [160, 161, 162, 163, 164, 165, 166, 167, 168, 169, 170, 171, 172, 173, 174, 175, 176, 177, 178, 179] 20 dari 200\n",
      "\n",
      "\n",
      "File (rank) 9 merekap barang nomor 180 200 [180, 181, 182, 183, 184, 185, 186, 187, 188, 189, 190, 191, 192, 193, 194, 195, 196, 197, 198, 199] 20 dari 200\n",
      "\n",
      "\n",
      "File (rank) 0 merekap barang nomor 0 20 [0, 1, 2, 3, 4, 5, 6, 7, 8, 9, 10, 11, 12, 13, 14, 15, 16, 17, 18, 19] 20 dari 200\n",
      "\n",
      "\n",
      "File (rank) 4 merekap barang nomor 80 100 [80, 81, 82, 83, 84, 85, 86, 87, 88, 89, 90, 91, 92, 93, 94, 95, 96, 97, 98, 99] 20 dari 200\n",
      "\n",
      "\n",
      "File (rank) 6 merekap barang nomor 120 140 [120, 121, 122, 123, 124, 125, 126, 127, 128, 129, 130, 131, 132, 133, 134, 135, 136, 137, 138, 139] 20 dari 200\n",
      "\n",
      "\n"
     ]
    }
   ],
   "source": [
    "!mpiexec -n 10 python mpibagikerja.py"
   ]
  },
  {
   "cell_type": "code",
   "execution_count": 4,
   "metadata": {},
   "outputs": [
    {
     "name": "stdout",
     "output_type": "stream",
     "text": [
      "File(rank) 3  Tidak merekap\n",
      "File(rank) 8  Tidak merekap\n",
      "File(rank) 4  Tidak merekap\n",
      "File(rank) 7  Tidak merekap\n",
      "File(rank) 9  Tidak merekap\n",
      "File(rank) 0  mengirim barang\n",
      "File(rank) 1  menerima : 45   barang reguler\n",
      "File(rank) 5  Tidak merekap\n",
      "File(rank) 2  menerima : barang pokok sekolah \n",
      "File(rank) 6  Tidak merekap\n"
     ]
    }
   ],
   "source": [
    "!mpiexec -n 10 python sendrecv_simple.py"
   ]
  },
  {
   "cell_type": "code",
   "execution_count": 5,
   "metadata": {},
   "outputs": [
    {
     "name": "stdout",
     "output_type": "stream",
     "text": [
      "File (rank) 9  Tidak merekap\n",
      "File (rank) 3  Tidak merekap\n",
      "File (rank) 7  Tidak merekap\n",
      "File (rank) 6  Tidak merekap\n",
      "File (rank) 4  Tidak merekap\n",
      "File (rank) 8  Tidak merekap\n",
      "File (rank) 0  mengirim data barang\n",
      "File (rank) 5  Tidak merekap\n",
      "File (rank) 1  menerima  c: 10 barang kebutuhan sekolah\n",
      "\t\t\t d: [2, 3, 4] (nomor barang tertentu)\n",
      "File (rank) 2  menerima c: 10  barang kebutuhan sekolah\n"
     ]
    }
   ],
   "source": [
    "!mpiexec -n 10 python sendrecv_next.py"
   ]
  },
  {
   "cell_type": "code",
   "execution_count": 6,
   "metadata": {},
   "outputs": [
    {
     "name": "stdout",
     "output_type": "stream",
     "text": [
      "File (rank) 9  Tidak Merekap\n",
      "File (rank) 6  Tidak Merekap\n",
      "File (rank) 5  Tidak Merekap\n",
      "File (rank) 8  Tidak Merekap\n",
      "File (rank) 1  Hasil Sementara : 10000000 \n",
      "File (rank) 2  Hasil Sementara : 2000000 \n",
      "File (rank) 3  Hasil Akhir : 60000000 \n",
      "File (rank) 7  Tidak Merekap\n",
      "File (rank) 4  Hasil Akhir : 12000000 \n",
      "File (rank) 0  mengirim rincian data barang\n",
      "Hasil sendrecv total =  132000000\n"
     ]
    }
   ],
   "source": [
    "!mpiexec -n 10 python sendrecv_adv1.py"
   ]
  },
  {
   "cell_type": "code",
   "execution_count": 7,
   "metadata": {},
   "outputs": [
    {
     "name": "stdout",
     "output_type": "stream",
     "text": [
      "File(rank) 0  mengirim data barang ke  1  2  3  4  5  6  7  8  9  \n",
      "File(rank) 1   :  send  2 15 | recv  2 40 | send  4 15 | recv  4 80 | send  6 15 | recv  6 120 | send  8 15 | recv  8 160 | \n",
      "File(rank) 2   :  | send  1 40 | recv  1 30 | send  3 40 | recv  3 90 | send  5 40 | recv  5 150 | send  7 40 | recv  7 210 | send  9 40 | recv  9 270 | \n",
      "File(rank) 3   :  send  2 45 | recv  2 120 | send  4 45 | recv  4 240 | send  6 45 | recv  6 360 | send  8 45 | recv  8 480 | \n",
      "File(rank) 5   :  send  2 75 | recv  2 200 | send  4 75 | recv  4 400 | send  6 75 | recv  6 600 | send  8 75 | recv  8 800 | \n",
      "File(rank) 4   :  | send  1 80 | recv  1 60 | send  3 80 | recv  3 180 | send  5 80 | recv  5 300 | send  7 80 | recv  7 420 | send  9 80 | recv  9 540 | \n",
      "File(rank) 6   :  | send  1 120 | recv  1 90 | send  3 120 | recv  3 270 | send  5 120 | recv  5 450 | send  7 120 | recv  7 630 | send  9 120 | recv  9 810 | \n",
      "File(rank) 7   :  send  2 105 | recv  2 280 | send  4 105 | recv  4 560 | send  6 105 | recv  6 840 | send  8 105 | recv  8 1120 | \n",
      "File(rank) 8   :  | send  1 160 | recv  1 120 | send  3 160 | recv  3 360 | send  5 160 | recv  5 600 | send  7 160 | recv  7 840 | send  9 160 | recv  9 1080 | \n",
      "File(rank) 9   :  send  2 135 | recv  2 360 | send  4 135 | recv  4 720 | send  6 135 | recv  6 1080 | send  8 135 | recv  8 1440 | \n"
     ]
    }
   ],
   "source": [
    "!mpiexec -n 10 python sendrecv_adv2.py"
   ]
  },
  {
   "cell_type": "code",
   "execution_count": 8,
   "metadata": {},
   "outputs": [
    {
     "name": "stdout",
     "output_type": "stream",
     "text": [
      "cetak 1 rank 6 memiliki jumlah data1 : 0 \n",
      "cetak 1 rank 6 memiliki jumlah data2 : 0 \n",
      "cetak 1 rank 9 memiliki jumlah data1 : 0 \n",
      "cetak 1 rank 9 memiliki jumlah data2 : 0 \n",
      "cetak 1 rank 3 memiliki jumlah data1 : 0 \n",
      "cetak 1 rank 3 memiliki jumlah data2 : 0 \n",
      "cetak 1 rank 1 memiliki jumlah data1 : 0 \n",
      "cetak 1 rank 1 memiliki jumlah data2 : 0 \n",
      "cetak 1 rank 5 memiliki jumlah data1 : 0 \n",
      "cetak 1 rank 5 memiliki jumlah data2 : 0 \n",
      "cetak 1 rank 0 memiliki jumlah data1 : 10 \n",
      "cetak 1 rank 0 memiliki jumlah data2 : 20 \n",
      "cetak 1 rank 7 memiliki jumlah data1 : 0 \n",
      "cetak 1 rank 8 memiliki jumlah data1 : 0 \n",
      "cetak 1 rank 7 memiliki jumlah data2 : 0 \n",
      "cetak 1 rank 8 memiliki jumlah data2 : 0 \n",
      "cetak 1 rank 2 memiliki jumlah data1 : 15 \n",
      "cetak 1 rank 2 memiliki jumlah data2 : 5 \n",
      "cetak 2 rank 2 memiliki jumlah data1 : 10 \n",
      "cetak 2 rank 0 memiliki jumlah data1 : 10 \n",
      "cetak 2 rank 2 memiliki jumlah data2 : 5 \n",
      "cetak 2 rank 0 memiliki jumlah data2 : 5 \n",
      "cetak 2 rank 3 memiliki jumlah data1 : 10 \n",
      "cetak 2 rank 3 memiliki jumlah data2 : 5 \n",
      "cetak 2 rank 1 memiliki jumlah data1 : 10 \n",
      "cetak 2 rank 1 memiliki jumlah data2 : 5 \n",
      "cetak 1 rank 4 memiliki jumlah data1 : 0 \n",
      "cetak 1 rank 4 memiliki jumlah data2 : 0 \n",
      "cetak 2 rank 4 memiliki jumlah data1 : 10 \n",
      "cetak 2 rank 4 memiliki jumlah data2 : 5 \n",
      "cetak 2 rank 5 memiliki jumlah data1 : 10 \n",
      "cetak 2 rank 5 memiliki jumlah data2 : 5 \n",
      "cetak 2 rank 6 memiliki jumlah data1 : 10 \n",
      "cetak 2 rank 6 memiliki jumlah data2 : 5 \n",
      "cetak 2 rank 8 memiliki jumlah data1 : 10 \n",
      "cetak 2 rank 8 memiliki jumlah data2 : 5 \n",
      "cetak 2 rank 7 memiliki jumlah data1 : 10 \n",
      "cetak 2 rank 7 memiliki jumlah data2 : 5 \n",
      "cetak 2 rank 9 memiliki jumlah data1 : 10 \n",
      "cetak 2 rank 9 memiliki jumlah data2 : 5 \n"
     ]
    }
   ],
   "source": [
    "!mpiexec -n 10 python broadcast.py"
   ]
  },
  {
   "cell_type": "code",
   "execution_count": 9,
   "metadata": {},
   "outputs": [
    {
     "name": "stdout",
     "output_type": "stream",
     "text": [
      "cetak 1 rank 9 memiliki jumlah data3 : 0 \n",
      "cetak 1 rank 7 memiliki jumlah data3 : 0 \n",
      "cetak 1 rank 3 memiliki jumlah data3 : 0 \n",
      "cetak 1 rank 5 memiliki jumlah data3 : 0 \n",
      "cetak 1 rank 6 memiliki jumlah data3 : 0 \n",
      "cetak 1 rank 8 memiliki jumlah data3 : 0 \n",
      "cetak 1 rank 2 memiliki jumlah data3 : 0 \n",
      "cetak 1 rank 0 memiliki jumlah data3 : 20 \n",
      "cetak 1 rank 1 memiliki jumlah data3 : 0 \n",
      "cetak 1 rank 4 memiliki jumlah data3 : 0 \n",
      "cetak 2 rank 6 memiliki jumlah data3 : 0 \n",
      "cetak 2 rank 1 memiliki jumlah data3 : 0 \n",
      "cetak 2 rank 7 memiliki jumlah data3 : 0 \n",
      "cetak 2 rank 5 memiliki jumlah data3 : 0 \n",
      "cetak 2 rank 2 memiliki jumlah data3 : 20 \n",
      "cetak 2 rank 9 memiliki jumlah data3 : 0 \n",
      "cetak 2 rank 8 memiliki jumlah data3 : 0 \n",
      "cetak 2 rank 0 memiliki jumlah data3 : 20 \n",
      "cetak 2 rank 4 memiliki jumlah data3 : 20 \n",
      "cetak 2 rank 3 memiliki jumlah data3 : 20 \n",
      "cetak 3 rank 1 memiliki jumlah data4 : 5 \n",
      "cetak 3 rank 9 memiliki jumlah data4 : 5 \n",
      "cetak 3 rank 5 memiliki jumlah data4 : 5 \n",
      "cetak 3 rank 2 memiliki jumlah data4 : 10 \n",
      "cetak 3 rank 0 memiliki jumlah data4 : 10 \n",
      "cetak 3 rank 4 memiliki jumlah data4 : 10 \n",
      "cetak 3 rank 7 memiliki jumlah data4 : 5 \n",
      "cetak 3 rank 6 memiliki jumlah data4 : 5 \n",
      "cetak 3 rank 8 memiliki jumlah data4 : 5 \n",
      "cetak 3 rank 3 memiliki jumlah data4 : 10 \n"
     ]
    }
   ],
   "source": [
    "!mpiexec -n 10 python broadcastmanual.py"
   ]
  },
  {
   "cell_type": "code",
   "execution_count": 10,
   "metadata": {},
   "outputs": [
    {
     "name": "stdout",
     "output_type": "stream",
     "text": [
      "cetak 4 rank 6 memiliki data5 : 1 \n",
      "cetak 4 rank 8 memiliki data5 : 1 \n",
      "cetak 5 rank 8 memiliki data6 : 0 \n",
      "cetak 4 rank 1 memiliki data5 : 15 \n",
      "cetak 4 rank 3 memiliki data5 : 15 \n",
      "cetak 5 rank 3 memiliki data6 : 0 \n",
      "cetak 4 rank 5 memiliki data5 : 15 \n",
      "cetak 5 rank 5 memiliki data6 : 0 \n",
      "cetak 4 rank 2 memiliki data5 : 1 \n",
      "cetak 5 rank 2 memiliki data6 : 0 \n",
      "cetak 4 rank 0 memiliki data5 : 15 \n",
      "cetak 4 rank 7 memiliki data5 : 15 \n",
      "cetak 5 rank 7 memiliki data6 : 0 \n",
      "cetak 5 rank 1 memiliki data6 : 10 \n",
      "cetak 4 rank 4 memiliki data5 : 1 \n",
      "cetak 5 rank 4 memiliki data6 : 0 \n",
      "cetak 4 rank 9 memiliki data5 : 15 \n",
      "cetak 5 rank 9 memiliki data6 : 0 \n",
      "cetak 5 rank 0 memiliki data6 : 10 \n",
      "cetak 5 rank 6 memiliki data6 : 10 \n"
     ]
    }
   ],
   "source": [
    "!mpiexec -n 10 python broadcast_adv.py"
   ]
  },
  {
   "cell_type": "code",
   "execution_count": 11,
   "metadata": {},
   "outputs": [
    {
     "name": "stdout",
     "output_type": "stream",
     "text": [
      "rank 1 data :  1\n",
      "rank 2 data :  2\n",
      "rank 3 data :  3\n",
      "rank 8 data :  8\n",
      "rank 0 data :  0\n",
      "rank 9 data :  9\n",
      "rank 4 data :  4\n",
      "rank 5 data :  5\n",
      "rank 6 data :  6\n",
      "rank 7 data :  7\n"
     ]
    }
   ],
   "source": [
    "!mpiexec -n 10 python scatter_simple.py"
   ]
  },
  {
   "cell_type": "code",
   "execution_count": 12,
   "metadata": {},
   "outputs": [
    {
     "name": "stdout",
     "output_type": "stream",
     "text": [
      "rank 6 data :  [12 13]\n",
      "rank 1 data :  [2 3]\n",
      "rank 0 data :  [0 1]\n",
      "rank 7 data :  [14 15]\n",
      "rank 9 data :  [18 19]\n",
      "rank 5 data :  [10 11]\n",
      "rank 8 data :  [16 17]\n",
      "rank 3 data :  [6 7]\n",
      "rank 4 data :  [8 9]\n",
      "rank 2 data :  [4 5]\n"
     ]
    }
   ],
   "source": [
    "!mpiexec -n 10 python scatter_split.py"
   ]
  },
  {
   "cell_type": "code",
   "execution_count": 13,
   "metadata": {},
   "outputs": [
    {
     "name": "stdout",
     "output_type": "stream",
     "text": [
      "rank 1 data :  [10, 11, 12, 13, 14, 15, 16, 17, 18, 19]\n",
      "rank 2 data :  [20, 21, 22, 23, 24, 25, 26, 27, 28, 29]\n",
      "rank 4 data :  [40, 41, 42, 43, 44, 45, 46, 47, 48, 49]\n",
      "rank 3 data :  [30, 31, 32, 33, 34, 35, 36, 37, 38, 39]\n",
      "rank 6 data :  [60, 61, 62, 63, 64, 65, 66, 67, 68, 69]\n",
      "rank 5 data :  [50, 51, 52, 53, 54, 55, 56, 57, 58, 59]\n",
      "rank 8 data :  [80, 81, 82, 83, 84, 85, 86, 87, 88, 89]\n",
      "rank 7 data :  [70, 71, 72, 73, 74, 75, 76, 77, 78, 79]\n",
      "rank 0 data :  [0, 1, 2, 3, 4, 5, 6, 7, 8, 9]\n",
      "rank 9 data :  [90, 91, 92, 93, 94, 95, 96, 97, 98, 99]\n"
     ]
    }
   ],
   "source": [
    "!mpiexec -n 10 python scatter_manual_bagikerja.py"
   ]
  },
  {
   "cell_type": "code",
   "execution_count": 14,
   "metadata": {},
   "outputs": [
    {
     "name": "stdout",
     "output_type": "stream",
     "text": [
      "rank 8 menerima data barang [8 8 8 8 8 8 8 8 8 8] \n",
      "rank 0 menerima data barang [0 0 0 0 0 0 0 0 0 0] \n",
      "rank 4 menerima data barang [4 4 4 4 4 4 4 4 4 4] \n",
      "rank 9 menerima data barang [9 9 9 9 9 9 9 9 9 9] \n",
      "rank 2 menerima data barang [2 2 2 2 2 2 2 2 2 2] \n",
      "rank 5 menerima data barang [5 5 5 5 5 5 5 5 5 5] \n",
      "rank 3 menerima data barang [3 3 3 3 3 3 3 3 3 3] \n",
      "rank 6 menerima data barang [6 6 6 6 6 6 6 6 6 6] \n",
      "rank 1 menerima data barang [1 1 1 1 1 1 1 1 1 1] \n",
      "rank 7 menerima data barang [7 7 7 7 7 7 7 7 7 7] \n"
     ]
    }
   ],
   "source": [
    "!mpiexec -n 10 python scatter_numpy.py"
   ]
  },
  {
   "cell_type": "code",
   "execution_count": 15,
   "metadata": {},
   "outputs": [
    {
     "name": "stdout",
     "output_type": "stream",
     "text": [
      "rank 0 recvdata :  [0. 0. 0. 0. 0. 0. 0. 0. 0. 0.] -->(barang kelipatan 0)\n",
      "rank 4 recvdata :  [ 4.  8. 12. 16. 20. 24. 28. 32. 36. 40.] -->(barang kelipatan 4)\n",
      "rank 7 recvdata :  [ 7. 14. 21. 28. 35. 42. 49. 56. 63. 70.] -->(barang kelipatan 7)\n",
      "rank 1 recvdata :  [ 1.  2.  3.  4.  5.  6.  7.  8.  9. 10.] -->(barang kelipatan 1)\n",
      "rank 8 recvdata :  [ 8. 16. 24. 32. 40. 48. 56. 64. 72. 80.] -->(barang kelipatan 8)\n",
      "rank 6 recvdata :  [ 6. 12. 18. 24. 30. 36. 42. 48. 54. 60.] -->(barang kelipatan 6)\n",
      "rank 5 recvdata :  [ 5. 10. 15. 20. 25. 30. 35. 40. 45. 50.] -->(barang kelipatan 5)\n",
      "rank 9 recvdata :  [ 9. 18. 27. 36. 45. 54. 63. 72. 81. 90.] -->(barang kelipatan 9)\n",
      "rank 2 recvdata :  [ 2.  4.  6.  8. 10. 12. 14. 16. 18. 20.] -->(barang kelipatan 2)\n",
      "rank 3 recvdata :  [ 3.  6.  9. 12. 15. 18. 21. 24. 27. 30.] -->(barang kelipatan 3)\n"
     ]
    }
   ],
   "source": [
    "!mpiexec -n 10 python scatter_alltoall.py"
   ]
  },
  {
   "cell_type": "code",
   "execution_count": 16,
   "metadata": {},
   "outputs": [
    {
     "name": "stdout",
     "output_type": "stream",
     "text": [
      "rank 3 mengirim [3 3 3 3 3 3 3 3 3 3]\n",
      "rank 3 menerima None\n",
      "rank 1 mengirim [1 1 1 1 1 1 1 1 1 1]\n",
      "rank 1 menerima None\n",
      "rank 7 mengirim [7 7 7 7 7 7 7 7 7 7]\n",
      "rank 7 menerima None\n",
      "rank 5 mengirim [5 5 5 5 5 5 5 5 5 5]\n",
      "rank 5 menerima None\n",
      "rank 2 mengirim [2 2 2 2 2 2 2 2 2 2]\n",
      "rank 2 menerima None\n",
      "rank 6 mengirim [6 6 6 6 6 6 6 6 6 6]\n",
      "rank 6 menerima None\n",
      "rank 9 mengirim [9 9 9 9 9 9 9 9 9 9]\n",
      "rank 9 menerima None\n",
      "rank 4 mengirim [4 4 4 4 4 4 4 4 4 4]\n",
      "rank 4 menerima None\n",
      "rank 8 mengirim [8 8 8 8 8 8 8 8 8 8]\n",
      "rank 8 menerima None\n",
      "rank 0 mengirim [0 0 0 0 0 0 0 0 0 0]\n",
      "rank 0 menerima [[0 0 0 0 0 0 0 0 0 0]\n",
      " [1 1 1 1 1 1 1 1 1 1]\n",
      " [2 2 2 2 2 2 2 2 2 2]\n",
      " [3 3 3 3 3 3 3 3 3 3]\n",
      " [4 4 4 4 4 4 4 4 4 4]\n",
      " [5 5 5 5 5 5 5 5 5 5]\n",
      " [6 6 6 6 6 6 6 6 6 6]\n",
      " [7 7 7 7 7 7 7 7 7 7]\n",
      " [8 8 8 8 8 8 8 8 8 8]\n",
      " [9 9 9 9 9 9 9 9 9 9]]\n"
     ]
    }
   ],
   "source": [
    "!mpiexec -n 10 python gather.py"
   ]
  },
  {
   "cell_type": "code",
   "execution_count": 17,
   "metadata": {},
   "outputs": [
    {
     "name": "stdout",
     "output_type": "stream",
     "text": [
      "[rank, 20*rank, jumlahbarang]\n",
      "<class 'list'>\n",
      "[[0, 0, 20], [1, 20, 20], [2, 40, 20], [3, 60, 20], [4, 80, 20], [5, 100, 20], [6, 120, 20], [7, 140, 20], [8, 160, 20], [9, 180, 20]]\n"
     ]
    }
   ],
   "source": [
    "!mpiexec -n 10 python gather_simple.py"
   ]
  },
  {
   "cell_type": "code",
   "execution_count": 18,
   "metadata": {},
   "outputs": [
    {
     "name": "stdout",
     "output_type": "stream",
     "text": [
      "file 1 mendapatkan (menerima) data dari rank : None \n",
      "file 3 mendapatkan (menerima) data dari rank : None \n",
      "file 9 mendapatkan (menerima) data dari rank : None \n",
      "file 7 mendapatkan (menerima) data dari rank : None \n",
      "file 8 mendapatkan (menerima) data dari rank : None \n",
      "file 5 mendapatkan (menerima) data dari rank : None \n",
      "file 2 mendapatkan (menerima) data dari rank : None \n",
      "file 6 mendapatkan (menerima) data dari rank : None \n",
      "file 4 mendapatkan (menerima) data dari rank : None \n",
      "file 0 mendapatkan (menerima) data dari rank : [1, 2, 3, 4, 5, 6, 7, 8, 9, 10] \n"
     ]
    }
   ],
   "source": [
    "!mpiexec -n 10 python gatheralt.py"
   ]
  },
  {
   "cell_type": "code",
   "execution_count": null,
   "metadata": {},
   "outputs": [],
   "source": []
  },
  {
   "cell_type": "code",
   "execution_count": 19,
   "metadata": {},
   "outputs": [
    {
     "name": "stdout",
     "output_type": "stream",
     "text": [
      "Jumlah keseluruhan pengiriman data (rank 0) SUM :  210\n",
      "Nilai Rata-rata Jumlah perekapan data (rank 0) MEAN :  10.5\n",
      "Nilai MIN keseluruhan pengiriman data (rank 0) MIN :  1\n",
      "Nilai MAX keseluruhan pengiriman data (rank 0) MAX :  20\n",
      "Nilai perkalian keseluruhan data rank 0 PROD :  2432902008176640000\n",
      "Nilai pengiriman data terbesar dan rank-nya 0 MAXLOC :  (19, 140)\n",
      "Nilai pengiriman data terkecil dan rank-nya 0 MINLOC :  (0, 17)\n"
     ]
    }
   ],
   "source": [
    "!mpiexec -n 20 python reduce.py"
   ]
  },
  {
   "cell_type": "code",
   "execution_count": 20,
   "metadata": {},
   "outputs": [
    {
     "name": "stdout",
     "output_type": "stream",
     "text": [
      "file (rank 0) SUM :  [0, 0, 0, 0, 0, 0, 0, 0, 0, 0, 1, 1, 1, 1, 1, 1, 1, 1, 1, 1, 2, 2, 2, 2, 2, 2, 2, 2, 2, 2, 3, 3, 3, 3, 3, 3, 3, 3, 3, 3, 4, 4, 4, 4, 4, 4, 4, 4, 4, 4, 5, 5, 5, 5, 5, 5, 5, 5, 5, 5, 6, 6, 6, 6, 6, 6, 6, 6, 6, 6, 7, 7, 7, 7, 7, 7, 7, 7, 7, 7, 8, 8, 8, 8, 8, 8, 8, 8, 8, 8, 9, 9, 9, 9, 9, 9, 9, 9, 9, 9]\n",
      "file (rank 0) MIN :  [0, 0, 0, 0, 0, 0, 0, 0, 0, 0]\n",
      "file (rank 0) MAX :  [9, 9, 9, 9, 9, 9, 9, 9, 9, 9]\n"
     ]
    }
   ],
   "source": [
    "!mpiexec -n 10 python reducearray.py"
   ]
  },
  {
   "cell_type": "code",
   "execution_count": 21,
   "metadata": {},
   "outputs": [
    {
     "name": "stdout",
     "output_type": "stream",
     "text": [
      "rank 9 data :  True\n",
      "rank 8 data :  True\n",
      "rank 7 data :  True\n",
      "rank 6 data :  True\n",
      "rank 2 data :  False\n",
      "rank 3 data :  False\n",
      "rank 5 data :  False\n",
      "rank 4 data :  False\n",
      "rank 1 data :  False\n",
      "rank 0 data :  False\n",
      "file root (rank) 0 LAND :  False\n",
      "file root (rank) 0 LOR :  True\n",
      "file root (rank) 0 BAND :  False\n",
      "file root (rank) 0 BOR :  True\n"
     ]
    }
   ],
   "source": [
    "!mpiexec -n 10 python reduce_logic.py"
   ]
  },
  {
   "cell_type": "code",
   "execution_count": 22,
   "metadata": {},
   "outputs": [
    {
     "name": "stdout",
     "output_type": "stream",
     "text": [
      "rank 3 menerima data :  100 data\n",
      "rank 5 menerima data :  100 data\n",
      "rank 4 menerima data :  100 data\n",
      "rank 2 menerima data :  100 data\n",
      "rank 8 menerima data :  100 data\n",
      "rank 0 menerima data :  100 data\n",
      "rank 1 menerima data :  100 data\n",
      "rank 6 menerima data :  100 data\n",
      "rank 9 menerima data :  100 data\n",
      "rank 7 menerima data :  100 data\n"
     ]
    }
   ],
   "source": [
    "!mpiexec -n 10 python allreduce.py"
   ]
  },
  {
   "cell_type": "code",
   "execution_count": 23,
   "metadata": {},
   "outputs": [
    {
     "name": "stdout",
     "output_type": "stream",
     "text": [
      "file (rank 9) senddata barang :  [  0  10  20  30  40  50  60  70  80  90 100 110 120 130 140 150 160 170\n",
      " 180 190 200 210 220 230 240 250 260 270 280 290 300 310 320 330 340 350\n",
      " 360 370 380 390 400 410 420 430 440 450 460 470 480 490 500 510 520 530\n",
      " 540 550 560 570 580 590]\n",
      "file (rank 9) recvdata barang :  [2970 3025 3080 3135 3190 3245]\n",
      "\n",
      "\n",
      "file (rank 8) senddata barang :  [  0   9  18  27  36  45  54  63  72  81  90  99 108 117 126 135 144 153\n",
      " 162 171 180 189 198 207 216 225 234 243 252 261 270 279 288 297 306 315\n",
      " 324 333 342 351 360 369 378 387 396 405 414 423 432 441 450 459 468 477\n",
      " 486 495 504 513 522 531]\n",
      "file (rank 8) recvdata barang :  [2640 2695 2750 2805 2860 2915]\n",
      "\n",
      "\n",
      "file (rank 5) senddata barang :  [  0   6  12  18  24  30  36  42  48  54  60  66  72  78  84  90  96 102\n",
      " 108 114 120 126 132 138 144 150 156 162 168 174 180 186 192 198 204 210\n",
      " 216 222 228 234 240 246 252 258 264 270 276 282 288 294 300 306 312 318\n",
      " 324 330 336 342 348 354]\n",
      "file (rank 5) recvdata barang :  [1650 1705 1760 1815 1870 1925]\n",
      "\n",
      "\n",
      "file (rank 7) senddata barang :  [  0   8  16  24  32  40  48  56  64  72  80  88  96 104 112 120 128 136\n",
      " 144 152 160 168 176 184 192 200 208 216 224 232 240 248 256 264 272 280\n",
      " 288 296 304 312 320 328 336 344 352 360 368 376 384 392 400 408 416 424\n",
      " 432 440 448 456 464 472]\n",
      "file (rank 7) recvdata barang :  [2310 2365 2420 2475 2530 2585]\n",
      "\n",
      "\n",
      "file (rank 4) senddata barang :  [  0   5  10  15  20  25  30  35  40  45  50  55  60  65  70  75  80  85\n",
      "  90  95 100 105 110 115 120 125 130 135 140 145 150 155 160 165 170 175\n",
      " 180 185 190 195 200 205 210 215 220 225 230 235 240 245 250 255 260 265\n",
      " 270 275 280 285 290 295]\n",
      "file (rank 4) recvdata barang :  [1320 1375 1430 1485 1540 1595]\n",
      "\n",
      "\n",
      "file (rank 6) senddata barang :  [  0   7  14  21  28  35  42  49  56  63  70  77  84  91  98 105 112 119\n",
      " 126 133 140 147 154 161 168 175 182 189 196 203 210 217 224 231 238 245\n",
      " 252 259 266 273 280 287 294 301 308 315 322 329 336 343 350 357 364 371\n",
      " 378 385 392 399 406 413]\n",
      "file (rank 6) recvdata barang :  [1980 2035 2090 2145 2200 2255]\n",
      "\n",
      "\n",
      "file (rank 3) senddata barang :  [  0   4   8  12  16  20  24  28  32  36  40  44  48  52  56  60  64  68\n",
      "  72  76  80  84  88  92  96 100 104 108 112 116 120 124 128 132 136 140\n",
      " 144 148 152 156 160 164 168 172 176 180 184 188 192 196 200 204 208 212\n",
      " 216 220 224 228 232 236]\n",
      "file (rank 3) recvdata barang :  [ 990 1045 1100 1155 1210 1265]\n",
      "\n",
      "\n",
      "file (rank 1) senddata barang :  [  0   2   4   6   8  10  12  14  16  18  20  22  24  26  28  30  32  34\n",
      "  36  38  40  42  44  46  48  50  52  54  56  58  60  62  64  66  68  70\n",
      "  72  74  76  78  80  82  84  86  88  90  92  94  96  98 100 102 104 106\n",
      " 108 110 112 114 116 118]\n",
      "file (rank 1) recvdata barang :  [330 385 440 495 550 605]\n",
      "\n",
      "\n",
      "file (rank 2) senddata barang :  [  0   3   6   9  12  15  18  21  24  27  30  33  36  39  42  45  48  51\n",
      "  54  57  60  63  66  69  72  75  78  81  84  87  90  93  96  99 102 105\n",
      " 108 111 114 117 120 123 126 129 132 135 138 141 144 147 150 153 156 159\n",
      " 162 165 168 171 174 177]\n",
      "file (rank 2) recvdata barang :  [660 715 770 825 880 935]\n",
      "\n",
      "\n",
      "file (rank 0) senddata barang :  [ 0  1  2  3  4  5  6  7  8  9 10 11 12 13 14 15 16 17 18 19 20 21 22 23\n",
      " 24 25 26 27 28 29 30 31 32 33 34 35 36 37 38 39 40 41 42 43 44 45 46 47\n",
      " 48 49 50 51 52 53 54 55 56 57 58 59]\n",
      "file (rank 0) recvdata barang :  [  0  55 110 165 220 275]\n",
      "\n",
      "\n"
     ]
    }
   ],
   "source": [
    "#reduce-scatter\n",
    "!mpiexec -n 10 python reducescatter.py"
   ]
  },
  {
   "cell_type": "code",
   "execution_count": null,
   "metadata": {},
   "outputs": [],
   "source": []
  }
 ],
 "metadata": {
  "kernelspec": {
   "display_name": "Python 3",
   "language": "python",
   "name": "python3"
  },
  "language_info": {
   "codemirror_mode": {
    "name": "ipython",
    "version": 3
   },
   "file_extension": ".py",
   "mimetype": "text/x-python",
   "name": "python",
   "nbconvert_exporter": "python",
   "pygments_lexer": "ipython3",
   "version": "3.7.4"
  }
 },
 "nbformat": 4,
 "nbformat_minor": 2
}
