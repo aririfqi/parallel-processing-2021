{
 "cells": [
  {
   "cell_type": "code",
   "execution_count": null,
   "metadata": {},
   "outputs": [],
   "source": [
    "#broadcast\n",
    "from mpi4py import MPI\n",
    "\n",
    "comm = MPI.COMM_WORLD\n",
    "rank = comm.Get_rank()\n",
    "\n",
    "if rank == 0:\n",
    "    data1 = 45\n",
    "    data2 = 30\n",
    "elif rank == 2:\n",
    "    data1 = 78\n",
    "    data2 = 17\n",
    "else:\n",
    "    data1 = 0\n",
    "    data2 = 0\n",
    "print(\"cetak 1 rank %d memiliki data1 : %d \" % (rank,data1),flush=True)\n",
    "print(\"cetak 1 rank %d memiliki data2 : %d \" % (rank,data2),flush=True)\n",
    "data1 = comm.bcast(data1,root=0)\n",
    "data2 = comm.bcast(data2,root=2)\n",
    "\n",
    "print(\"cetak 2 rank %d memiliki data1 : %d \" % (rank,data1),flush=True)\n",
    "print(\"cetak 2 rank %d memiliki data2 : %d \" % (rank,data2),flush=True)"
   ]
  },
  {
   "cell_type": "code",
   "execution_count": 2,
   "metadata": {},
   "outputs": [
    {
     "name": "stdout",
     "output_type": "stream",
     "text": [
      "cetak 1 rank 0 memiliki data1 : 45 \n",
      "cetak 1 rank 0 memiliki data2 : 30 \n",
      "cetak 1 rank 1 memiliki data1 : 0 \n",
      "cetak 1 rank 2 memiliki data1 : 78 \n",
      "cetak 1 rank 1 memiliki data2 : 0 \n",
      "cetak 1 rank 2 memiliki data2 : 17 \n",
      "cetak 1 rank 3 memiliki data1 : 0 \n",
      "cetak 1 rank 3 memiliki data2 : 0 \n",
      "cetak 2 rank 2 memiliki data1 : 45 \n",
      "cetak 2 rank 3 memiliki data1 : 45 \n",
      "cetak 2 rank 2 memiliki data2 : 17 \n",
      "cetak 2 rank 3 memiliki data2 : 17 \n",
      "cetak 2 rank 0 memiliki data1 : 45 \n",
      "cetak 2 rank 0 memiliki data2 : 17 \n",
      "cetak 2 rank 1 memiliki data1 : 45 \n",
      "cetak 2 rank 1 memiliki data2 : 17 \n"
     ]
    }
   ],
   "source": [
    "!mpiexec -n 4 python broadcast.py"
   ]
  },
  {
   "cell_type": "code",
   "execution_count": null,
   "metadata": {},
   "outputs": [],
   "source": [
    "#broadcastmanual.py\n",
    "from mpi4py import MPI\n",
    "def broadcastmanual(source,dest,data,tag,comm):\n",
    "    if comm.rank == source:\n",
    "        for x in dest:\n",
    "            comm.send(data,dest=x,tag=tag)\n",
    "        return data\n",
    "    elif comm.rank in dest:\n",
    "        return comm.recv(source=source,tag=tag)\n",
    "    else:\n",
    "        return data\n",
    "\n",
    "\n",
    "comm = MPI.COMM_WORLD\n",
    "rank = comm.Get_rank()\n",
    "\n",
    "if rank == 0:\n",
    "    data1 = 45\n",
    "else:\n",
    "    data1 = 0\n",
    "print(\"cetak 1 rank %d memiliki data1 : %d \" % (rank,data1),flush=True)\n",
    "comm.barrier()\n",
    "data1 = broadcastmanual(0,[2,3,4],data1,1,comm)\n",
    "print(\"cetak 2 rank %d memiliki data1 : %d \" % (rank,data1),flush=True)"
   ]
  },
  {
   "cell_type": "code",
   "execution_count": 3,
   "metadata": {},
   "outputs": [
    {
     "name": "stdout",
     "output_type": "stream",
     "text": [
      "cetak 1 rank 4 memiliki data1 : 0 \n",
      "cetak 1 rank 2 memiliki data1 : 0 \n",
      "cetak 1 rank 3 memiliki data1 : 0 \n",
      "cetak 1 rank 5 memiliki data1 : 0 \n",
      "cetak 1 rank 1 memiliki data1 : 0 \n",
      "cetak 1 rank 0 memiliki data1 : 45 \n",
      "cetak 2 rank 1 memiliki data1 : 0 \n",
      "cetak 2 rank 2 memiliki data1 : 45 \n",
      "cetak 2 rank 0 memiliki data1 : 45 \n",
      "cetak 2 rank 5 memiliki data1 : 0 \n",
      "cetak 2 rank 4 memiliki data1 : 45 \n",
      "cetak 2 rank 3 memiliki data1 : 45 \n"
     ]
    }
   ],
   "source": [
    "!mpiexec -n 6 python broadcastmanual.py"
   ]
  },
  {
   "cell_type": "code",
   "execution_count": 4,
   "metadata": {},
   "outputs": [],
   "source": [
    "#mpimanual.py\n",
    "def broadcastmanual(source,dest,data,tag,comm):\n",
    "    if comm.rank == source:\n",
    "        for x in dest:\n",
    "            comm.send(data,dest=x,tag=tag)\n",
    "        return data\n",
    "    elif comm.rank in dest:\n",
    "        return comm.recv(source=source,tag=tag)\n",
    "    else:\n",
    "        return data"
   ]
  },
  {
   "cell_type": "code",
   "execution_count": null,
   "metadata": {},
   "outputs": [],
   "source": [
    "#broadcast_adv.py\n",
    "from mpimanual import broadcastmanual\n",
    "from mpi4py import MPI\n",
    "\n",
    "comm = MPI.COMM_WORLD\n",
    "rank = comm.Get_rank()\n",
    "\n",
    "if rank == 0:\n",
    "    data1 = 45\n",
    "else:\n",
    "    data1 = 0\n",
    "data1 = broadcastmanual(0,[i for i in range(1,comm.size,2)],data1,1,comm)\n",
    "print(\"rank %d memiliki data1 : %d \" % (rank,data1),flush=True)"
   ]
  },
  {
   "cell_type": "code",
   "execution_count": 8,
   "metadata": {},
   "outputs": [
    {
     "name": "stdout",
     "output_type": "stream",
     "text": [
      "rank 4 memiliki data1 : 0 \n",
      "rank 6 memiliki data1 : 0 \n",
      "rank 2 memiliki data1 : 0 \n",
      "rank 1 memiliki data1 : 45 \n",
      "rank 8 memiliki data1 : 0 \n",
      "rank 3 memiliki data1 : 45 \n",
      "rank 0 memiliki data1 : 45 \n",
      "rank 7 memiliki data1 : 45 \n",
      "rank 5 memiliki data1 : 45 \n"
     ]
    }
   ],
   "source": [
    "!mpiexec -n 9 python broadcast_adv.py"
   ]
  },
  {
   "cell_type": "code",
   "execution_count": null,
   "metadata": {},
   "outputs": [],
   "source": []
  }
 ],
 "metadata": {
  "kernelspec": {
   "display_name": "Python 3",
   "language": "python",
   "name": "python3"
  },
  "language_info": {
   "codemirror_mode": {
    "name": "ipython",
    "version": 3
   },
   "file_extension": ".py",
   "mimetype": "text/x-python",
   "name": "python",
   "nbconvert_exporter": "python",
   "pygments_lexer": "ipython3",
   "version": "3.7.4"
  }
 },
 "nbformat": 4,
 "nbformat_minor": 2
}
