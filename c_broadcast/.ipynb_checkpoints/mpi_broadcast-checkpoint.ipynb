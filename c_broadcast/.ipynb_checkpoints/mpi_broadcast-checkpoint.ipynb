{
 "cells": [
  {
   "cell_type": "code",
   "execution_count": null,
   "metadata": {},
   "outputs": [],
   "source": [
    "#broadcast\n",
    "from mpi4py import MPI\n",
    "\n",
    "comm = MPI.COMM_WORLD\n",
    "rank = comm.Get_rank()\n",
    "\n",
    "if rank == 0:\n",
    "    data1 = 45\n",
    "    data2 = 30\n",
    "elif rank == 2:\n",
    "    data1 = 78\n",
    "    data2 = 17\n",
    "else:\n",
    "    data1 = 0\n",
    "    data2 = 0\n",
    "print(\"cetak 1 rank %d memiliki data1 : %d \" % (rank,data1),flush=True)\n",
    "print(\"cetak 1 rank %d memiliki data2 : %d \" % (rank,data2),flush=True)\n",
    "data1 = comm.bcast(data1,root=0)\n",
    "data2 = comm.bcast(data2,root=2)\n",
    "#if rank not in [0,2]:\n",
    "print(\"cetak 2 rank %d memiliki data1 : %d \" % (rank,data1),flush=True)\n",
    "print(\"cetak 2 rank %d memiliki data2 : %d \" % (rank,data2),flush=True)"
   ]
  },
  {
   "cell_type": "code",
   "execution_count": null,
   "metadata": {},
   "outputs": [],
   "source": []
  }
 ],
 "metadata": {
  "kernelspec": {
   "display_name": "Python 3",
   "language": "python",
   "name": "python3"
  },
  "language_info": {
   "codemirror_mode": {
    "name": "ipython",
    "version": 3
   },
   "file_extension": ".py",
   "mimetype": "text/x-python",
   "name": "python",
   "nbconvert_exporter": "python",
   "pygments_lexer": "ipython3",
   "version": "3.7.4"
  }
 },
 "nbformat": 4,
 "nbformat_minor": 2
}
